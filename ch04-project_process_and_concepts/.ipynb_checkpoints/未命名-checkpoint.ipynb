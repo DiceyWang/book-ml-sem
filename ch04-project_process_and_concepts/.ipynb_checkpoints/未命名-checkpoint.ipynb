{
 "cells": [
  {
   "cell_type": "markdown",
   "metadata": {},
   "source": [
    "# mysql_export.sql\n",
    "\n",
    "```\n",
    "SELECT * INTO OUTFILE '/tmp/export_mysql.csv' COLUMNS TERMINATED BY ',' LINES TERMINATED BY '\\r\\n' FROM information_schema.CHARACTER_SETS;\n",
    "```\n"
   ]
  },
  {
   "attachments": {},
   "cell_type": "markdown",
   "metadata": {},
   "source": [
    "# mongo export.sh\n",
    "\n",
    "```\n",
    "#!/bin/bash\n",
    "HOST=xxx\n",
    "PORT=xxx\n",
    "USER=xxx\n",
    "PASS='xxx'\n",
    "DB_NAME=xxx\n",
    "TB_NAME=xxx\n",
    "CSV_FILE=$1\n",
    "FIELDS_FILE=filelds.txt\n",
    "CONDITION='{ $and: [{\"timestamp\": { $gte: 1555516800 } }, {\"timestamp\": { $lt: 1556207999 } } ] }'\n",
    "/usr/bin/mongoexport -h ${HOST} --port ${PORT}\\\n",
    "          -d ${DB_NAME} -c ${TB_NAME}         \\\n",
    "          -u ${USER} -p ${PASS}               \\\n",
    "          --readPreference=nearest            \\\n",
    "          --type=csv -q \"${CONDITION}\"        \\\n",
    "          --fieldFile=$FIELDS_FILE -o $CSV_FILE\n",
    "```"
   ]
  },
  {
   "attachments": {},
   "cell_type": "markdown",
   "metadata": {},
   "source": [
    "# spark_export.py\n",
    "\n",
    "```\n",
    "from pyspark import SparkContext, SparkConf\n",
    "from pyspark.sql import HiveContext\n",
    "conf = SparkConf().setAppName(\"pyspark_export_csv\")\n",
    "sc = SparkContext(conf=conf)\n",
    "hiveCtx = HiveContext(sc)\n",
    "\n",
    "sql = '''select * from your_db.your_table'''\n",
    "spk_df = hiveCtx.sql(sql)\n",
    "df = spk_df.toPandas()\n",
    "df.to_csv('spark_exported.csv', encoding='utf-8')\n",
    "```"
   ]
  },
  {
   "cell_type": "markdown",
   "metadata": {},
   "source": [
    "# hive export.sql\n",
    "\n",
    "```\n",
    "insert overwrite local directory '/tmp/hive_export'\n",
    "row format delimited\n",
    "fields terminated by ',' # 默认分隔符为8进制1 \\x01\n",
    "select * from your_db.your_table;\n",
    "```"
   ]
  },
  {
   "attachments": {},
   "cell_type": "markdown",
   "metadata": {},
   "source": [
    "# impala  your.sql\n",
    "\n",
    "```\n",
    "impala-shell -i your_impala_node -f your.sql -B --output_delimiter=\",\" --print_header -o your_data.csv\n",
    "```"
   ]
  },
  {
   "cell_type": "code",
   "execution_count": null,
   "metadata": {},
   "outputs": [],
   "source": []
  }
 ],
 "metadata": {
  "kernelspec": {
   "display_name": "Python 3",
   "language": "python",
   "name": "python3"
  },
  "language_info": {
   "codemirror_mode": {
    "name": "ipython",
    "version": 3
   },
   "file_extension": ".py",
   "mimetype": "text/x-python",
   "name": "python",
   "nbconvert_exporter": "python",
   "pygments_lexer": "ipython3",
   "version": "3.7.3"
  },
  "toc": {
   "base_numbering": 1,
   "nav_menu": {},
   "number_sections": true,
   "sideBar": true,
   "skip_h1_title": false,
   "title_cell": "Table of Contents",
   "title_sidebar": "Contents",
   "toc_cell": false,
   "toc_position": {},
   "toc_section_display": true,
   "toc_window_display": false
  }
 },
 "nbformat": 4,
 "nbformat_minor": 2
}
